{
  "nbformat": 4,
  "nbformat_minor": 0,
  "metadata": {
    "colab": {
      "provenance": []
    },
    "kernelspec": {
      "name": "python3",
      "display_name": "Python 3"
    },
    "language_info": {
      "name": "python"
    }
  },
  "cells": [
    {
      "cell_type": "markdown",
      "source": [],
      "metadata": {
        "id": "zBJzQ1rI5ZfQ"
      }
    },
    {
      "cell_type": "markdown",
      "source": [
        "1. what is python , and why is it popular ?\n",
        "\n",
        "Ans: python is a popular programming language. It was created by Guido van Rossum, and released in 1991.\n",
        "\n",
        "It is used for:\n",
        "\n",
        "web development (server-side),\n",
        "software development,\n",
        "mathematics,\n",
        "system scripting."
      ],
      "metadata": {
        "id": "kYQlckvS5aLU"
      }
    },
    {
      "cell_type": "markdown",
      "source": [],
      "metadata": {
        "id": "UlcqXw_GtZmf"
      }
    },
    {
      "cell_type": "markdown",
      "source": [
        "2. What is an interpreter in Python ?\n",
        "\n",
        "Ans: In python, an interpreter is a program that:\n",
        "\n",
        "1. Reads python code\n",
        "2. Translates it into machine code\n",
        "3. Execute it immediately, line by line.\n",
        "\n",
        "   some popular python interpreater include:\n",
        "   1.1 cppython(default interpreter)\n",
        "   1.2 pypy\n",
        "   1.3 Ironpython\n",
        "   1.4 jpython\n",
        "\n",
        "   Each interepter has its own strengths and weaknesses but they all allow you to run python code."
      ],
      "metadata": {
        "id": "qoPtDjogvgfU"
      }
    },
    {
      "cell_type": "markdown",
      "source": [
        "3. What are pre-defined keywords in Python ?\n",
        "\n",
        "Ans: In python, predefined keywords are:\n",
        "\n",
        "     Resereved words with special meaning,such as:\n",
        "\n",
        "     1. if,else,for,while\n",
        "     2. def,class,import\n",
        "     3. and,or,not,in,is\n",
        "     4. True,false,None\n",
        "\n",
        "     There are 33 predefined keywords in python."
      ],
      "metadata": {
        "id": "sw_Mq1Glxyei"
      }
    },
    {
      "cell_type": "markdown",
      "source": [
        "4. Can keywords be used as variable names ?\n",
        "\n",
        "Ans: No, keywords cannot be used as variable names in python.\n",
        "\n",
        "     using a keyword as variable name will result in syntaxerror."
      ],
      "metadata": {
        "id": "3QBz2UhIzP2x"
      }
    },
    {
      "cell_type": "markdown",
      "source": [
        "5. What is mutability in Python ?\n",
        "\n",
        "Ans: In python, mutability refers to the ability of an object to change its\n",
        "     value or state after creation .\n",
        "\n",
        "     MUTABLE: mutable can change the value(e.g., List,dictionaries,sets)"
      ],
      "metadata": {
        "id": "ZKTXhzNbz_4E"
      }
    },
    {
      "cell_type": "markdown",
      "source": [
        "6. Why are lists mutable, but tuples are immutable ?\n",
        "\n",
        "Ans: list: list are mutable because they're designed for dynamic and flexible\n",
        "     changes,using a dynamic array data structure.\n",
        "     \n",
        "     Tuples: Tuples are immutable because they're designed for lightweight, secure,and efficient storege,using a single block of memory."
      ],
      "metadata": {
        "id": "k36pOAlg2YMv"
      }
    },
    {
      "cell_type": "markdown",
      "source": [
        "7. What is the difference between “==” and “is” operators in Python ?\n",
        "\n",
        "Ans: \"==\" (equality operator) checks if the values of two object are equal.\n",
        "\n",
        "     \"is\" (identity operator) check if both objects are the same instance, i.e., they have the same memory location.\n",
        "\n",
        "     In other words:\n",
        "\n",
        "     1. \"==\" checks for value equality\n",
        "     2. \"is\" check for object identity"
      ],
      "metadata": {
        "id": "l4ueVqI_4e0D"
      }
    },
    {
      "cell_type": "markdown",
      "source": [],
      "metadata": {
        "id": "IAsia0Ei31nW"
      }
    },
    {
      "cell_type": "markdown",
      "source": [
        "8. what are logical operators in python ?\n",
        "\n",
        "Ans: In python, logical operators are used to combine conditional statements:\n",
        "\n",
        "     1. and: True if both conditions are True.\n",
        "     example: a > 5 and b < 10\n",
        "\n",
        "     2. or: True if at list one condition is True.\n",
        "     example:  a > 5 or b < 10\n",
        "\n",
        "     3. not: Inverts the boolean value of a condition .\n",
        "     example: not a > 5\n",
        "\n"
      ],
      "metadata": {
        "id": "P4USddIh5wyM"
      }
    },
    {
      "cell_type": "markdown",
      "source": [
        "9. what is type casting in python ?\n",
        "\n",
        "Ans: Type casting: type casting is the process of convering a value from one\n",
        "     data type to another.\n",
        "\n",
        "     In python , type casting can be done using functions,such as:\n",
        "\n",
        "     1. int() for integer conversion\n",
        "     2. float() for floating-point conversion\n",
        "     3. str() for string conversion\n",
        "     4. bool() for boolean conversion\n",
        "    "
      ],
      "metadata": {
        "id": "0XdmAGLP73Gx"
      }
    },
    {
      "cell_type": "markdown",
      "source": [
        "10. What is the difference between implicit and explicit type casting ?\n",
        "\n",
        "Ans: Implicit Type Casting: Automatic conversion by the compiler, without\n",
        "     explicit code.(e.g., int x = 5; ,float y = x;)\n",
        "\n",
        "     Explicit Type Casting: Manual conversion using  type casting function or operators.(e.g., int x = 5; , float y = (float)x;)\n"
      ],
      "metadata": {
        "id": "XXGInqDN9Kl9"
      }
    },
    {
      "cell_type": "markdown",
      "source": [
        "11. What is the purpose of conditional statements in Python ?\n",
        "\n",
        "Ans: Conditional statement in python:\n",
        "\n",
        "     Purpose: Execute specific code blocks based on conditions or decisions,using.\n",
        "\n",
        "     1. if-else statements\n",
        "     2. if-elif statements\n",
        "     3. nested if statements\n",
        "\n",
        "     enabling control flow, decision-making, and logic in programs."
      ],
      "metadata": {
        "id": "fr1hsppP-3Xo"
      }
    },
    {
      "cell_type": "markdown",
      "source": [
        "12. How does the elif statement work ?\n",
        "\n",
        "Ans: elif statement work:\n",
        "\n",
        "     1. check the initial if condition.\n",
        "     2. if false,checks the elif condition.\n",
        "     3. if True, executes the elif code block.\n",
        "     4. if false,checks the final else(if present).\n",
        "\n",
        "     Allows multiple conditional checks in a single statement."
      ],
      "metadata": {
        "id": "7ya8jWMYAElF"
      }
    },
    {
      "cell_type": "markdown",
      "source": [
        "13. What is the difference between for and while loops ?\n",
        "\n",
        "Ans: for loop:\n",
        "     1. Iterates over a sequence(list,tuple,string,etc.)\n",
        "     2. Executes a block of code for each item in the sequence\n",
        "\n",
        "     While loop:\n",
        "     1. continue to execute a block of code as long as a condition is True.\n",
        "     2. Typically used for indefinite iteration or repetition."
      ],
      "metadata": {
        "id": "udmchZznBKHz"
      }
    },
    {
      "cell_type": "markdown",
      "source": [
        "14. Describe a scenario where a while loop is more suitable than a for loop.\n",
        "\n",
        "Ans: Here's a scenario:\n",
        "\n",
        "Scenario: simulating a bank account balance replenishment.\n",
        "\n",
        "you want to keep adding $100 to the account balance until it reaches a mimimum threshold of $1000.\n",
        "\n",
        "Why while loop?\n",
        "\n",
        "The number of iterations (additions of $100) is unknown , and the loop should continue until the condition (balance >= $1000) is met.\n",
        "\n",
        "A while loop is perfect for this scenario , as it allows the loop to run indefinitely util the condition is satisfied.\n"
      ],
      "metadata": {
        "id": "JPz_5yQzyoIk"
      }
    },
    {
      "cell_type": "code",
      "source": [
        "# Practical Questions"
      ],
      "metadata": {
        "id": "BXr00KkWzcbS"
      },
      "execution_count": null,
      "outputs": []
    },
    {
      "cell_type": "code",
      "source": [
        "# 1. Write a Python program to print \"Hello, World!\"\n",
        "\n",
        "print(\"Hello, world!\")"
      ],
      "metadata": {
        "colab": {
          "base_uri": "https://localhost:8080/"
        },
        "id": "M8uKVVE6z2tF",
        "outputId": "24ba0349-63db-4cdd-8484-f661878209ba"
      },
      "execution_count": 1,
      "outputs": [
        {
          "output_type": "stream",
          "name": "stdout",
          "text": [
            "Hello, world!\n"
          ]
        }
      ]
    },
    {
      "cell_type": "code",
      "source": [
        "# 2. Write a Python program that displays your name and age.\n",
        "\n",
        "name = input(\"Enter your name:\")\n",
        "age = input(\"Enter your age:\")\n",
        "print(\"hello, my name is\",name)\n",
        "print(\"I am\",20,\"years old.\")"
      ],
      "metadata": {
        "colab": {
          "base_uri": "https://localhost:8080/"
        },
        "id": "YRPJ0siy0T9m",
        "outputId": "8b1ab00b-2701-44d2-af42-cc787e3abfa5"
      },
      "execution_count": 5,
      "outputs": [
        {
          "output_type": "stream",
          "name": "stdout",
          "text": [
            "Enter your name:kumkum \n",
            "Enter your age:20\n",
            "hello, my name is kumkum \n",
            "I am 20 years old.\n"
          ]
        }
      ]
    },
    {
      "cell_type": "code",
      "source": [
        "# 3. Write code to print all the pre-defined keywords in Python using the keyword library.\n",
        "\n",
        "import keyword\n",
        "\n",
        "# Get the list of all keywords\n",
        "\n",
        "keyword = keyword.kwlist\n",
        "\n",
        "# print each keyword\n",
        "\n",
        "for keyword in keyword:\n",
        "    print(keyword)"
      ],
      "metadata": {
        "colab": {
          "base_uri": "https://localhost:8080/"
        },
        "id": "iGuHYdIF2HzG",
        "outputId": "23f9ae70-79cd-40ff-e7c8-fd53efe7f870"
      },
      "execution_count": 6,
      "outputs": [
        {
          "output_type": "stream",
          "name": "stdout",
          "text": [
            "False\n",
            "None\n",
            "True\n",
            "and\n",
            "as\n",
            "assert\n",
            "async\n",
            "await\n",
            "break\n",
            "class\n",
            "continue\n",
            "def\n",
            "del\n",
            "elif\n",
            "else\n",
            "except\n",
            "finally\n",
            "for\n",
            "from\n",
            "global\n",
            "if\n",
            "import\n",
            "in\n",
            "is\n",
            "lambda\n",
            "nonlocal\n",
            "not\n",
            "or\n",
            "pass\n",
            "raise\n",
            "return\n",
            "try\n",
            "while\n",
            "with\n",
            "yield\n"
          ]
        }
      ]
    },
    {
      "cell_type": "code",
      "source": [
        "# 4.Write a program that checks if a given word is a Python keyword.\n",
        "import keyword\n",
        "word = input(\"Enter a word to check if it is a pyhton keyword: \")\n",
        "if keyword.iskeyword(word):\n",
        "      print(f\"{word} is a python keyword.\")\n",
        "else:\n",
        "      print(f\"{word} is not a python keyword.\")"
      ],
      "metadata": {
        "colab": {
          "base_uri": "https://localhost:8080/"
        },
        "id": "uQtzTUdHddA-",
        "outputId": "d882b760-2dd8-47e3-cab6-fbcf9e68c921"
      },
      "execution_count": 37,
      "outputs": [
        {
          "output_type": "stream",
          "name": "stdout",
          "text": [
            "Enter a word to check if it is a pyhton keyword: True\n",
            "True is a python keyword.\n"
          ]
        }
      ]
    },
    {
      "cell_type": "code",
      "source": [
        "#5->  Create a list and tuple in Python, and demonstrate how attempting to change an element works differently for each.\n",
        "#Ans->\n",
        "my_list = [1,2,3,4,5,6,\"ajay\",\"shubham\"]\n",
        "my_tuple= (1,2,3,4,7)\n",
        "\n",
        "# Attempting to change an element in the list\n",
        "my_list[0] = \"raja\"\n",
        "print(\"Modified List:\", my_list)\n",
        "#Attemping to change an element in the tuple\n",
        "try:\n",
        "    my_tuple[0] = 10\n",
        "except TypeError as e:\n",
        "    print(\"Error:\", e)"
      ],
      "metadata": {
        "colab": {
          "base_uri": "https://localhost:8080/"
        },
        "id": "3yvmVLdJlUeN",
        "outputId": "4ac74c5d-5d69-46e2-fcc5-4dfa6e166d87"
      },
      "execution_count": 27,
      "outputs": [
        {
          "output_type": "stream",
          "name": "stdout",
          "text": [
            "Modified List: ['raja', 2, 3, 4, 5, 6, 'ajay', 'shubham']\n",
            "Error: 'tuple' object does not support item assignment\n"
          ]
        }
      ]
    },
    {
      "cell_type": "code",
      "source": [
        "#6->  Write a function to demonstrate the behavior of mutable and immutable arguments.\n",
        "#Ans->\n",
        "#behavior of mutable\n",
        "color = [\"red\" , \"yellow\" , \"green\" ,\"blue\" , \"black\"]\n",
        "print(\"the all is coulors\",color)\n",
        "color[3] = \"siliver\"\n",
        "print(\"the all is coulors\",color)#objects/container whose state or value can be changed after they are created\n",
        "#behavior of immutable\n",
        "tuple =(\"red_fort\",\"greenland\",\"tajmahal\",\"ganga\")\n",
        "print(\"my wish_list\",tuple)\n",
        "try:\n",
        "    tuple [0] = \"himalaya\"\n",
        "except TypeError as e:\n",
        "    print(\"error:\" , e) #objects/container whose state or value can not  be changed after they are created\n"
      ],
      "metadata": {
        "colab": {
          "base_uri": "https://localhost:8080/"
        },
        "id": "ztZIErFdlf3O",
        "outputId": "dddbeeca-17f5-4c48-c30a-5ef2cacd77f9"
      },
      "execution_count": 28,
      "outputs": [
        {
          "output_type": "stream",
          "name": "stdout",
          "text": [
            "the all is coulors ['red', 'yellow', 'green', 'blue', 'black']\n",
            "the all is coulors ['red', 'yellow', 'green', 'siliver', 'black']\n",
            "my wish_list ('red_fort', 'greenland', 'tajmahal', 'ganga')\n",
            "error: 'tuple' object does not support item assignment\n"
          ]
        }
      ]
    },
    {
      "cell_type": "code",
      "source": [
        "#7-> Write a program that performs basic arithmetic operations on two user-input numbers.\n",
        "#Ans->\n",
        "num1 = int(input(\"enter the frist number\"))\n",
        "num2 =  int(input(\"enter the second  number\"))\n",
        "sum = num1 + num2\n",
        "diff = num1 - num2\n",
        "mult = num1 * num2\n",
        "div = num1 / num2\n",
        "mod = num1 % num2\n",
        "print(\"Numbers are :\", num1 ,num2)\n",
        "print (\"sum\" , sum)\n",
        "print(\"difference \", diff)\n",
        "print(\"product\" , mult)\n",
        "print(\"division\" , div)\n",
        "print(\"module\" , mod)"
      ],
      "metadata": {
        "colab": {
          "base_uri": "https://localhost:8080/"
        },
        "id": "qdqMWdIYlqRg",
        "outputId": "6111c9b4-3d80-429c-d157-f2da9a8e63af"
      },
      "execution_count": 29,
      "outputs": [
        {
          "output_type": "stream",
          "name": "stdout",
          "text": [
            "enter the frist number33\n",
            "enter the second  number44\n",
            "Numbers are : 33 44\n",
            "sum 77\n",
            "difference  -11\n",
            "product 1452\n",
            "division 0.75\n",
            "module 33\n"
          ]
        }
      ]
    },
    {
      "cell_type": "code",
      "source": [
        "#8-> Write a program to demonstrate the use of logical operators.\n",
        "#Ans->\n",
        "x = int(input(\"enter the frist number\"))\n",
        "y = int (input(\"enter the second number \"))\n",
        "# And logical oprator\n",
        "print( x==y and  y==x) #  both condition are true\n",
        "# or logical oprator\n",
        "a = 100\n",
        "b = 150\n",
        "print(a==b or b>a)# atleast one condition are true\n",
        "# not logical oprator\n",
        "a = 100\n",
        "b = 150\n",
        "print(not(a==b or b<a))# give reverse ans\n",
        "\n",
        "\n",
        "\n"
      ],
      "metadata": {
        "colab": {
          "base_uri": "https://localhost:8080/"
        },
        "id": "30k_QzrQly0z",
        "outputId": "8476ebe6-d792-40c5-fa6b-9582eee7e2f3"
      },
      "execution_count": 30,
      "outputs": [
        {
          "output_type": "stream",
          "name": "stdout",
          "text": [
            "enter the frist number99\n",
            "enter the second number 88\n",
            "False\n",
            "True\n",
            "True\n"
          ]
        }
      ]
    },
    {
      "cell_type": "code",
      "source": [
        "#9-> Write a Python program to convert user input from string to integer, float, and boolean types.\n",
        "#Ans->\n",
        "user = input(\"enter the value \")\n",
        "print(user)\n",
        "print(type(user))\n",
        "#change into ingeter\n",
        "user = int(input(\"enetr the value \"))\n",
        "print(user)\n",
        "print(type(user))\n",
        "#change float\n",
        "user = float(input(\"enetr the value \"))\n",
        "print(user)\n",
        "print(type(user))\n",
        "#change into boolean\n",
        "user = bool(input(\"enetr the value \"))\n",
        "print(user)\n",
        "print(type(user))\n",
        "\n"
      ],
      "metadata": {
        "colab": {
          "base_uri": "https://localhost:8080/"
        },
        "id": "cQRMWgNXl8cl",
        "outputId": "9e73f099-f433-46f7-885c-732910eaad61"
      },
      "execution_count": 31,
      "outputs": [
        {
          "output_type": "stream",
          "name": "stdout",
          "text": [
            "enter the value 55\n",
            "55\n",
            "<class 'str'>\n",
            "enetr the value 44\n",
            "44\n",
            "<class 'int'>\n",
            "enetr the value 55.66\n",
            "55.66\n",
            "<class 'float'>\n",
            "enetr the value 44\n",
            "True\n",
            "<class 'bool'>\n"
          ]
        }
      ]
    },
    {
      "cell_type": "code",
      "source": [
        "#10-> Write code to demonstrate type casting with list elements.\n",
        "#Ans->\n",
        "my_list = ['10', '20.5', 'True', '30']\n",
        "\n",
        "# Type casting list elements\n",
        "new_list = []\n",
        "for element in my_list:\n",
        "  try:\n",
        "    new_list.append(int(element))\n",
        "  except ValueError:\n",
        "    try:\n",
        "      new_list.append(float(element))\n",
        "    except ValueError:\n",
        "      if element.lower() == 'true':\n",
        "        new_list.append(True)\n",
        "      elif element.lower() == 'false':\n",
        "        new_list.append(False)\n",
        "      else:\n",
        "        new_list.append(element)\n",
        "\n",
        "print(\"Original List:\", my_list)\n",
        "print(\"New List with Type Casting:\", new_list)"
      ],
      "metadata": {
        "colab": {
          "base_uri": "https://localhost:8080/"
        },
        "id": "TnCicZ82mDK6",
        "outputId": "fcdfca98-8e73-4824-fbf2-a08171f2f7bf"
      },
      "execution_count": 32,
      "outputs": [
        {
          "output_type": "stream",
          "name": "stdout",
          "text": [
            "Original List: ['10', '20.5', 'True', '30']\n",
            "New List with Type Casting: [10, 20.5, True, 30]\n"
          ]
        }
      ]
    },
    {
      "cell_type": "code",
      "source": [
        "#12->  Write a for loop to print numbers from 1 to 10.\n",
        "#Ans\n",
        "n = 1\n",
        "i = 1\n",
        "while i<11:\n",
        "    print(i)\n",
        "    i +=1"
      ],
      "metadata": {
        "colab": {
          "base_uri": "https://localhost:8080/"
        },
        "id": "3HIY2pK7mKAC",
        "outputId": "8ed1f4ec-a443-4a82-8316-c4187895b8ce"
      },
      "execution_count": 33,
      "outputs": [
        {
          "output_type": "stream",
          "name": "stdout",
          "text": [
            "1\n",
            "2\n",
            "3\n",
            "4\n",
            "5\n",
            "6\n",
            "7\n",
            "8\n",
            "9\n",
            "10\n"
          ]
        }
      ]
    },
    {
      "cell_type": "code",
      "source": [
        "#13->  Write a Python program to find the sum of all even numbers between 1 and 50 .\n",
        "n = 50\n",
        "i = 2\n",
        "sum =0\n",
        "while(i<=50):\n",
        "     sum=sum+i\n",
        "     i=i+2\n",
        "     print(\"sum of even numbers=\",sum)\n",
        "\n"
      ],
      "metadata": {
        "colab": {
          "base_uri": "https://localhost:8080/"
        },
        "id": "5maNIBfhmQL8",
        "outputId": "ee488c24-b61d-4cd6-ccea-19f4cbcbf93d"
      },
      "execution_count": 34,
      "outputs": [
        {
          "output_type": "stream",
          "name": "stdout",
          "text": [
            "sum of even numbers= 2\n",
            "sum of even numbers= 6\n",
            "sum of even numbers= 12\n",
            "sum of even numbers= 20\n",
            "sum of even numbers= 30\n",
            "sum of even numbers= 42\n",
            "sum of even numbers= 56\n",
            "sum of even numbers= 72\n",
            "sum of even numbers= 90\n",
            "sum of even numbers= 110\n",
            "sum of even numbers= 132\n",
            "sum of even numbers= 156\n",
            "sum of even numbers= 182\n",
            "sum of even numbers= 210\n",
            "sum of even numbers= 240\n",
            "sum of even numbers= 272\n",
            "sum of even numbers= 306\n",
            "sum of even numbers= 342\n",
            "sum of even numbers= 380\n",
            "sum of even numbers= 420\n",
            "sum of even numbers= 462\n",
            "sum of even numbers= 506\n",
            "sum of even numbers= 552\n",
            "sum of even numbers= 600\n",
            "sum of even numbers= 650\n"
          ]
        }
      ]
    },
    {
      "cell_type": "code",
      "source": [
        "#14. Write a program to reverse a string using a while loop.\n",
        "sentence = input(\"enter the sentence \")\n",
        "words = sentence.split()\n",
        "for word in words:\n",
        "    i = len(word)-1\n",
        "    while i>=0:\n",
        "        print(word[i] ,end=\"\" )\n",
        "        i-=1\n",
        ""
      ],
      "metadata": {
        "colab": {
          "base_uri": "https://localhost:8080/"
        },
        "id": "F4aH-RiVmVRH",
        "outputId": "de599943-e531-42ab-8cda-c642900f925e"
      },
      "execution_count": 35,
      "outputs": [
        {
          "output_type": "stream",
          "name": "stdout",
          "text": [
            "enter the sentence kukmkum\n",
            "mukmkuk"
          ]
        }
      ]
    },
    {
      "cell_type": "code",
      "source": [
        "#15->  Write a Python program to calculate the factorial of a number provided by the user using a while loop.\n",
        "num = int(input(\"enter the number:\"))\n",
        "fact = 1\n",
        "for i in range (1,num+1):\n",
        "    fact = fact * i\n",
        "print(\"factorial of \" , num , \"is \" , fact)"
      ],
      "metadata": {
        "colab": {
          "base_uri": "https://localhost:8080/"
        },
        "id": "iOumzA1dmbvI",
        "outputId": "fcbba3c9-a2d6-4791-8e7d-3c73a1986aa5"
      },
      "execution_count": 36,
      "outputs": [
        {
          "output_type": "stream",
          "name": "stdout",
          "text": [
            "enter the number:33\n",
            "factorial of  33 is  8683317618811886495518194401280000000\n"
          ]
        }
      ]
    }
  ]
}